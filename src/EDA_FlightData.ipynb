import numpy as np
import pandas as pd
import matplotlib.pyplot as plt
import seaborn as sns

path = "/Project_1_NYC-Flight data/"
flightData = pd.read_csv(path + "flight_data.csv")
flightData.head(10)

#Query1 : Find the flight number which departed very early and the one that departed very late
maxDepdelay = flightData["dep_delay"].argmax()
print("Flight that departed very late is {}".format(flightData.ix[maxDepdelay].tailnum))
minDepDelay = flightData["dep_delay"].argmin()
print("Flight that departed very early from the planned time is {}".format(flightData.ix[minDepDelay].tailnum))
#Solution: Flight that departed very late is N384HA , Flight that departed very early from the planned time is N592JB

#Query2: best airports in terms of time departure
df = flightData.groupby("origin").mean()
df.sort_values(by=["dep_delay"],inplace=True)
kk = df.head(1).index.get_values()
print("Best airports in terms of time departure % is {}".format(kk))
#Solution: Best airports in terms of time departure % is ['LGA']

#Query3: Find the fastest aircraft (Speed analysis)
flightData["time in hrs"] = flightData["hour"] + (flightData["minute"]/60)
flightData["speed in miles/hr"] = flightData["distance"]/flightData["time in hrs"]
df1 = flightData.groupby("tailnum").mean()
df1.sort_values(by=["speed in miles/hr"],ascending=False,inplace=True)
fastFlight = df1.head(1)
fastFlightNum =fastFlight.index.get_values()
fastFlightSpeed = df1.ix[0,"speed in miles/hr"]
print(fastFlight)
#Solution: tailNum N395HA , speed in miles/hr: 520.779699

#Query4:Total flights arrived on time
flightOnTime = flightData["arr_delay"]==0
newdf = flightData[flightOnTime]
onTimeFlights = newdf.count()
totalFlights = flightData.count()
print("Number of flights that arrived  on time = {} ".format(onTimeFlights["year"]))
pctFlights = onTimeFlights/totalFlights * 100
print("{:4.2f} % of flights arrived on time" .format(pctFlights["year"]))
#Solution: Number of flights that arrived  on time = 5409 
           1.61 % of flights arrived on time
           
#Query5: Max flights headed to one location
df3 = flightData.groupby("dest").count()
df4 = df3.sort_values(by=["year"],ascending=False)
flight = df4.head(1)
print("Maximum  of {} flights headed to {}" .format(df4.ix[0,"year"],flight.index.get_values()))
#Solution: Maximum  of 17283 flights headed to ['ORD']
